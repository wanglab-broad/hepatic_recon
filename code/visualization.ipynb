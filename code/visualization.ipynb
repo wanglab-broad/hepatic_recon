{
 "cells": [
  {
   "cell_type": "markdown",
   "id": "ab1ae1db-1302-4ddb-af17-8a02fe60d01a",
   "metadata": {},
   "source": [
    "# Visualization"
   ]
  },
  {
   "cell_type": "markdown",
   "id": "96be740b-79f0-4ff2-b98e-a69db7724bc9",
   "metadata": {},
   "source": [
    "2024-09-29"
   ]
  },
  {
   "cell_type": "code",
   "execution_count": null,
   "id": "5a5f3095-860b-4283-99ae-0dee02e9efa1",
   "metadata": {},
   "outputs": [],
   "source": [
    "# load libraries\n",
    "import os\n",
    "import numpy as np\n",
    "import pandas as pd\n",
    "import seaborn as sns\n",
    "import scanpy as sc\n",
    "import squidpy as sq\n",
    "import anndata as ad\n",
    "import matplotlib.pyplot as plt\n",
    "from matplotlib.colors import ListedColormap\n",
    "from tqdm.notebook import tqdm\n",
    "\n",
    "from sklearn.cluster import KMeans\n",
    "from sklearn.metrics import adjusted_rand_score"
   ]
  },
  {
   "cell_type": "code",
   "execution_count": null,
   "id": "39826fdb-70e8-424c-a397-2c0014eb5b6b",
   "metadata": {},
   "outputs": [],
   "source": [
    "sc.settings.figdir = fig_path\n",
    "sc.set_figure_params(format='pdf', dpi=150)"
   ]
  },
  {
   "cell_type": "markdown",
   "id": "47fa7ae8-a266-4aab-8419-95becab69981",
   "metadata": {},
   "source": [
    "## Input"
   ]
  },
  {
   "cell_type": "code",
   "execution_count": null,
   "id": "e312827d-c615-4e3b-a6b6-91a89059551e",
   "metadata": {},
   "outputs": [],
   "source": [
    "# define IO path\n",
    "base_path = './path/to/dataset'\n",
    "output_path = os.path.join(base_path, 'output')\n",
    "expr_path = os.path.join(base_path, 'expr')\n",
    "fig_path = os.path.join(base_path, \"figures\")\n",
    "if not os.path.exists(fig_path):\n",
    "    os.mkdir(fig_path)"
   ]
  },
  {
   "cell_type": "code",
   "execution_count": null,
   "id": "896f0984-2af5-4519-b8eb-bb4566b65aa3",
   "metadata": {},
   "outputs": [],
   "source": [
    "# load datasets\n",
    "raw_cdata = sc.read_h5ad(os.path.join(expr_path, f'combined-raw.h5ad'))\n",
    "cdata = sc.read_h5ad(os.path.join(expr_path, f'2024-09-29-combined-level3-bk.h5ad'))\n",
    "rdata = sc.read_h5ad(os.path.join(expr_path, f'2024-09-29-combined-level3-region23-bk.h5ad'))"
   ]
  },
  {
   "cell_type": "code",
   "execution_count": null,
   "id": "cdf7c6cf-c42e-429e-a058-7e729767be1b",
   "metadata": {},
   "outputs": [],
   "source": [
    "# create unique index\n",
    "raw_cdata.obs['unique_index'] = raw_cdata.obs['sample'].astype(str) + '_' + raw_cdata.obs['fov_id'].astype(str) + '_' +  raw_cdata.obs['seg_label'].astype(str)\n",
    "raw_cdata.obs.index = raw_cdata.obs['unique_index']"
   ]
  },
  {
   "cell_type": "code",
   "execution_count": null,
   "id": "1a7e198f-9714-4537-a4ac-d54eff6f67ea",
   "metadata": {},
   "outputs": [],
   "source": [
    "# subset raw data\n",
    "sc.pp.calculate_qc_metrics(raw_cdata, inplace=True, percent_top=None)\n",
    "raw_cdata = raw_cdata[rdata.obs.index, ]\n",
    "raw_cdata.layers['raw'] = raw_cdata.X.copy()\n",
    "raw_cdata"
   ]
  },
  {
   "cell_type": "markdown",
   "id": "664219e8-acb7-4fed-a9be-b3025870f43e",
   "metadata": {},
   "source": [
    "## Create color palettes"
   ]
  },
  {
   "cell_type": "code",
   "execution_count": null,
   "id": "48a8627c-a889-4139-8da0-146e9808aa37",
   "metadata": {},
   "outputs": [],
   "source": [
    "plt.style.use('default')"
   ]
  },
  {
   "cell_type": "code",
   "execution_count": null,
   "id": "2ca06d83-9abf-44f1-b85c-9624e30939cd",
   "metadata": {},
   "outputs": [],
   "source": [
    "# reorder categories\n",
    "level_1_order = ['T cells', 'B cells', 'Macrophages', 'Dendritic cells', 'NA']\n",
    "cdata.obs['level_1'] = cdata.obs['level_1'].astype('category')\n",
    "cdata.obs['level_1'] = cdata.obs['level_1'].cat.reorder_categories(level_1_order)\n",
    "\n",
    "rdata.obs['level_1'] = rdata.obs['level_1'].astype('category')\n",
    "rdata.obs['level_1'] = rdata.obs['level_1'].cat.reorder_categories(level_1_order)"
   ]
  },
  {
   "cell_type": "code",
   "execution_count": null,
   "id": "434679db-5db3-4a65-8870-a981ad48eb7a",
   "metadata": {},
   "outputs": [],
   "source": [
    "# level 1\n",
    "level_1_pl = sns.color_palette(['#1a5fd6', '#FBB040', '#00A651', '#92278F', '#dbdbdb'])\n",
    "b_cells_pl = sns.color_palette(['#FBB040'])\n",
    "level_1_cmap = ListedColormap(level_1_pl.as_hex())\n",
    "sns.palplot(level_1_pl)\n",
    "plt.xticks(range(len(level_1_order)), level_1_order, size=5, rotation=45)\n",
    "plt.tight_layout()\n",
    "# plt.savefig(os.path.join(fig_path, 'level_1_palette.pdf'))\n",
    "plt.show()"
   ]
  },
  {
   "cell_type": "code",
   "execution_count": null,
   "id": "2b58c230-45d7-43f6-81eb-6f7491b1689e",
   "metadata": {},
   "outputs": [],
   "source": [
    "# level 2 t cells\n",
    "level_2_t_cells_order = ['CD4+ T cells', 'CD8+ T cells', 'Synthetic T cells', 'T cells']\n",
    "level_2_t_cells_pl = sns.color_palette(['#42cf13', '#2a73bd', '#e45ff5', '#ad7307'])\n",
    "level_2_t_cells_cmap = ListedColormap(level_2_t_cells_pl.as_hex())\n",
    "sns.palplot(level_2_t_cells_pl)\n",
    "plt.xticks(range(len(level_2_t_cells_order)), level_2_t_cells_order, size=5, rotation=45)\n",
    "plt.tight_layout()\n",
    "# plt.savefig(os.path.join(fig_path, 'level_2_t_cells_palette.pdf'))\n",
    "plt.show()"
   ]
  },
  {
   "cell_type": "code",
   "execution_count": null,
   "id": "c22dc19d-4474-45ec-8b0f-075f17c9f5a2",
   "metadata": {},
   "outputs": [],
   "source": [
    "# level 2 dendritic cells\n",
    "level_2_dc_order = ['cDC1', 'cDC2', 'Other Dendritic cells', ]\n",
    "level_2_dc_pl = sns.color_palette(['#fa6e52', '#4164a6', '#b079f2'])\n",
    "level_2_dc_cmap = ListedColormap(level_2_dc_pl.as_hex())\n",
    "sns.palplot(level_2_dc_pl)\n",
    "plt.xticks(range(len(level_2_dc_order)), level_2_dc_order, size=5, rotation=45)\n",
    "plt.tight_layout()\n",
    "plt.savefig(os.path.join(fig_path, 'level_2_dc_palette.pdf'))\n",
    "plt.show()"
   ]
  },
  {
   "cell_type": "code",
   "execution_count": null,
   "id": "dfdd6f3e-04b0-46cc-b2a7-d0d1176f3cfe",
   "metadata": {},
   "outputs": [],
   "source": [
    "# level 2 macrophage\n",
    "level_2_mc_order = ['Macrophages', 'Activated Macrophages', 'Monocytes']\n",
    "level_2_mc_pl = sns.color_palette(['#8120f5', '#e0416c', '#13ede6'])\n",
    "level_2_mc_cmap = ListedColormap(level_2_mc_pl.as_hex())\n",
    "sns.palplot(level_2_mc_pl)\n",
    "plt.xticks(range(len(level_2_mc_order)), level_2_mc_order, size=3, rotation=45)\n",
    "plt.tight_layout()\n",
    "plt.savefig(os.path.join(fig_path, 'level_2_mc_palette.pdf'))\n",
    "plt.show()"
   ]
  },
  {
   "cell_type": "code",
   "execution_count": null,
   "id": "e7d93b73-af0e-49ce-80bb-1098ba8f2b25",
   "metadata": {},
   "outputs": [],
   "source": [
    "# region\n",
    "region_pl = sns.color_palette('tab10', 4)[2:]"
   ]
  },
  {
   "cell_type": "markdown",
   "id": "c56764bc-06bc-43ba-9106-7fcad084a703",
   "metadata": {},
   "source": [
    "## Spatial map"
   ]
  },
  {
   "cell_type": "code",
   "execution_count": null,
   "id": "a3f974ae-68e9-46f7-b6a4-c1c3c066d483",
   "metadata": {},
   "outputs": [],
   "source": [
    "def plot_regional_sct(cdata, rdata, sample, reigon_bd, base_level, type_list, palette, file_name):\n",
    "    sample_cdata = cdata[cdata.obs['sample'] == sample, ]\n",
    "    sample_rdata = rdata[rdata.obs['sample'] == sample, ]\n",
    "\n",
    "    spot_size = 15\n",
    "    sample_c_pdata = sample_cdata[sample_cdata.obs['global_x'].isin(range(reigon_bd[0], reigon_bd[1])) & sample_cdata.obs['global_y'].isin(range(reigon_bd[2], reigon_bd[3])), ]\n",
    "    sample_r_pdata = sample_rdata[sample_rdata.obs['global_x'].isin(range(reigon_bd[0], reigon_bd[1])) & sample_rdata.obs['global_y'].isin(range(reigon_bd[2], reigon_bd[3])), ]\n",
    "\n",
    "    current_complete_obs = sample_c_pdata.obs.copy()\n",
    "    current_region_obs = sample_r_pdata.obs.copy()\n",
    "    if type_list:\n",
    "        current_region_obs = current_region_obs.loc[current_region_obs[base_level].isin(type_list), :]\n",
    "        current_region_obs[base_level] = current_region_obs[base_level].astype(object)\n",
    "        current_region_obs[base_level] = current_region_obs[base_level].astype('category')\n",
    "        # print(current_region_obs[base_level].unique())\n",
    "        current_region_obs[base_level] = current_region_obs[base_level].cat.reorder_categories(type_list)\n",
    "    \n",
    "    fig, ax = plt.subplots(figsize=(5,5))\n",
    "    sns.scatterplot(x='global_x', y='global_y', data=current_complete_obs, color='#dbdbdb', s=spot_size, linewidth=0, ax=ax, rasterized=True)\n",
    "    sns.scatterplot(x='global_x', y='global_y', hue=base_level, data=current_region_obs, palette=palette, s=spot_size, linewidth=0, legend=False, ax=ax, rasterized=False, alpha=.8)\n",
    "    plt.gca().set_aspect('equal')\n",
    "    plt.axis('off')\n",
    "    plt.tight_layout()\n",
    "    plt.savefig(os.path.join(fig_path, file_name), dpi=300)\n",
    "    plt.show()"
   ]
  },
  {
   "cell_type": "code",
   "execution_count": null,
   "id": "a145d483-71fc-43ed-9ca9-c3cb91d1a319",
   "metadata": {},
   "outputs": [],
   "source": [
    "# define sample boundary \n",
    "sample1_bd = [8000, 12000, 9500, 13750]\n",
    "sample3_bd = [23500, 27500, 15000, 19000]\n",
    "sample6_bd = [16250, 19500, 4500, 8400]"
   ]
  },
  {
   "cell_type": "code",
   "execution_count": null,
   "id": "2c3acbfc-637b-4bfd-a834-dfe2f7d224fd",
   "metadata": {},
   "outputs": [],
   "source": [
    "# level1 \n",
    "plot_regional_sct(cdata, rdata, 'sample1', sample1_bd, 'level_1', [], level_1_pl, 'sct_smaple1_level_1.svg')\n",
    "plot_regional_sct(cdata, rdata, 'sample3', sample3_bd, 'level_1', [], level_1_pl, 'sct_smaple3_level_1.svg')\n",
    "plot_regional_sct(cdata, rdata, 'sample6', sample6_bd, 'level_1', [], level_1_pl, 'sct_smaple6_level_1.svg')\n",
    "\n",
    "# B cells\n",
    "plot_regional_sct(cdata, rdata, 'sample1', sample1_bd, 'level_1', ['B cells'], b_cells_pl, 'sct_smaple1_b_cells.svg')\n",
    "plot_regional_sct(cdata, rdata, 'sample3', sample3_bd, 'level_1', ['B cells'], b_cells_pl, 'sct_smaple3_b_cells.svg')\n",
    "plot_regional_sct(cdata, rdata, 'sample6', sample6_bd, 'level_1', ['B cells'], b_cells_pl, 'sct_smaple6_b_cells.svg')\n",
    "\n",
    "# T cells \n",
    "plot_regional_sct(cdata, rdata, 'sample1', sample1_bd, 'level_2', level_2_t_cells_order, level_2_t_cells_pl, 'sct_smaple1_t_cells.svg')\n",
    "plot_regional_sct(cdata, rdata, 'sample3', sample3_bd, 'level_2', level_2_t_cells_order, level_2_t_cells_pl, 'sct_smaple3_t_cells.svg')\n",
    "plot_regional_sct(cdata, rdata, 'sample6', sample6_bd, 'level_2', level_2_t_cells_order, level_2_t_cells_pl, 'sct_smaple6_t_cells.svg')\n",
    "\n",
    "# DC \n",
    "plot_regional_sct(cdata, rdata, 'sample1', sample1_bd, 'level_2', level_2_dc_order, level_2_dc_pl, 'sct_smaple1_dc.svg')\n",
    "plot_regional_sct(cdata, rdata, 'sample3', sample3_bd, 'level_2', level_2_dc_order, level_2_dc_pl, 'sct_smaple3_dc.svg')\n",
    "plot_regional_sct(cdata, rdata, 'sample6', sample6_bd, 'level_2', level_2_dc_order, level_2_dc_pl, 'sct_smaple6_dc.svg')\n",
    "\n",
    "# MC\n",
    "plot_regional_sct(cdata, rdata, 'sample1', sample1_bd, 'level_2', level_2_mc_order, level_2_mc_pl, 'sct_smaple1_mc.svg')\n",
    "plot_regional_sct(cdata, rdata, 'sample3', sample3_bd, 'level_2', level_2_mc_order, level_2_mc_pl, 'sct_smaple3_mc.svg')\n",
    "plot_regional_sct(cdata, rdata, 'sample6', sample6_bd, 'level_2', level_2_mc_order, level_2_mc_pl, 'sct_smaple6_mc.svg')"
   ]
  },
  {
   "cell_type": "code",
   "execution_count": null,
   "id": "ab220136-0f67-453d-a949-32919338d156",
   "metadata": {},
   "outputs": [],
   "source": [
    "# MC\n",
    "plot_regional_sct(cdata, rdata, 'sample1', sample1_bd, 'region', [], region_pl, 'sct_smaple1_region_crop.png')\n",
    "plot_regional_sct(cdata, rdata, 'sample3', sample3_bd, 'region', [], region_pl, 'sct_smaple3_region_crop.png')\n",
    "plot_regional_sct(cdata, rdata, 'sample6', sample6_bd, 'region', [], region_pl, 'sct_smaple6_region_crop.png')"
   ]
  },
  {
   "cell_type": "code",
   "execution_count": null,
   "id": "fef1c32e-4504-4519-9905-b1cdd3d1144b",
   "metadata": {},
   "outputs": [],
   "source": [
    "for current_sample in cdata.obs['sample'].unique():\n",
    "    print(current_sample)\n",
    "    current_complete_obs = cdata.obs.loc[cdata.obs['sample'] == current_sample, :]\n",
    "\n",
    "    fig_size = np.array([current_complete_obs['global_x'].max(), current_complete_obs['global_y'].max()]) / 1000\n",
    "    fig, ax = plt.subplots(figsize=fig_size)\n",
    "    sns.scatterplot(x='global_x', y='global_y', hue='region', data=current_complete_obs, palette='tab10', s=1, linewidth=0, ax=ax)\n",
    "    plt.gca().set_aspect('equal')\n",
    "    plt.axis('off')\n",
    "    plt.tight_layout()\n",
    "    plt.savefig(os.path.join(fig_path, f\"sct_{current_sample}_region.png\"), dpi=300)\n",
    "    plt.show()"
   ]
  },
  {
   "cell_type": "markdown",
   "id": "056a07f0-85f7-444b-bfcf-6abcca1af788",
   "metadata": {},
   "source": [
    "## Heatmap"
   ]
  },
  {
   "cell_type": "code",
   "execution_count": null,
   "id": "e18b6f40-c9e0-44dd-a5c4-1018714255f4",
   "metadata": {},
   "outputs": [],
   "source": [
    "# change scanpy plot setting \n",
    "sc.settings.figdir = fig_path\n",
    "sc.set_figure_params(format='pdf', dpi=150)"
   ]
  },
  {
   "cell_type": "markdown",
   "id": "6feeea7f-33f1-486b-8e1b-c1ed6aa43bbc",
   "metadata": {},
   "source": [
    "### level 1"
   ]
  },
  {
   "cell_type": "code",
   "execution_count": null,
   "id": "1df20fef-f4c7-4bd8-9e7e-8c16ec356019",
   "metadata": {},
   "outputs": [],
   "source": [
    "# create subset without nas\n",
    "pdata = rdata[rdata.obs['level_1'] != 'NA', ]"
   ]
  },
  {
   "cell_type": "code",
   "execution_count": null,
   "id": "976d6bf5-8608-438b-828e-c305b48f9dbb",
   "metadata": {},
   "outputs": [],
   "source": [
    "# create gene dict for visualization\n",
    "level_1_gene_dict = {\n",
    " 'T cells': ['Ccr7', 'Cd3d', 'Cd3e', 'Cd3g', 'Lef1'],\n",
    " 'B cells': ['Cd19', 'Cd22', 'Cd79a', 'Ms4a1'],\n",
    " 'Macrophages': ['Adgre1', 'Cd68', 'Csf1r', 'Itgam', 'Lyz2'],\n",
    " 'Dendritic cells': ['Irf4', 'Irf8', 'Itgax', 'Sirpa', 'Xcr1']\n",
    "}"
   ]
  },
  {
   "cell_type": "code",
   "execution_count": null,
   "id": "898c3f9e-54b9-40d4-b378-ca9c8d94f5b8",
   "metadata": {
    "scrolled": true
   },
   "outputs": [],
   "source": [
    "# plot dot plots\n",
    "sc.pl.dotplot(pdata, level_1_gene_dict, groupby=f'level_1', dendrogram=False, use_raw=True, cmap='Reds', swap_axes=False, save='level_1_h')\n",
    "sc.pl.dotplot(pdata, level_1_gene_dict, groupby=f'level_1', dendrogram=False, use_raw=True, cmap='Reds', swap_axes=False, standard_scale='var', save='level_1_var_h')\n",
    "sc.pl.dotplot(pdata, level_1_gene_dict, groupby=f'level_1', dendrogram=False, use_raw=True, cmap='Reds', swap_axes=False, standard_scale='group', save='level_1_group_h')"
   ]
  },
  {
   "cell_type": "markdown",
   "id": "d6c5e478-4037-42ef-853d-6aac2e6ef49b",
   "metadata": {},
   "source": [
    "### level 2"
   ]
  },
  {
   "cell_type": "code",
   "execution_count": null,
   "id": "7b573042-876d-4fc0-a1c5-78a431607e6a",
   "metadata": {},
   "outputs": [],
   "source": [
    "# create subset without nas\n",
    "pdata = rdata[rdata.obs['level_1'] != 'NA', ]"
   ]
  },
  {
   "cell_type": "code",
   "execution_count": null,
   "id": "8974a584-cb81-449c-bc00-0b3ef7308342",
   "metadata": {},
   "outputs": [],
   "source": [
    "# create gene dict for visualization\n",
    "level_2_gene_dict = {\n",
    " 'T cells': ['Cd3e', 'Cd3g', 'Cd3d'],\n",
    " 'CD4+ T cells': ['Cd4'],\n",
    " 'CD8+ T cells': ['Cd8a'],\n",
    " 'Synthetic T cells': ['Ccr7'],\n",
    " 'B cells': ['Cd19', 'Cd22', 'Cd79a', 'Ms4a1'],\n",
    " 'Macrophages': ['Adgre1', 'Itgam'],\n",
    " 'Activated Macrophages': ['Cd68'],\n",
    " 'Monocytes': ['Csf1r', 'Lyz2'],\n",
    " 'cDC1': ['Irf8'],\n",
    " 'cDC2': ['Irf4'],\n",
    " 'Other Dendritic cells': ['Itgax', 'Xcr1'],\n",
    "}"
   ]
  },
  {
   "cell_type": "code",
   "execution_count": null,
   "id": "9705abd3-119a-47a9-ae1c-1a2a9fb8a317",
   "metadata": {},
   "outputs": [],
   "source": [
    "# reorder categories\n",
    "level_2_order = list(level_2_gene_dict.keys())\n",
    "pdata.obs['level_2'] = pdata.obs['level_2'].astype('category')\n",
    "pdata.obs['level_2'] = pdata.obs['level_2'].cat.reorder_categories(level_2_order)"
   ]
  },
  {
   "cell_type": "code",
   "execution_count": null,
   "id": "5f5943ca-084f-44dc-be8a-367966f4dcd3",
   "metadata": {
    "scrolled": true
   },
   "outputs": [],
   "source": [
    "# plot dot plots\n",
    "sc.pl.dotplot(pdata, level_2_gene_dict, groupby=f'level_2', dendrogram=False, use_raw=True, cmap='Reds', swap_axes=False, save='level_2_h')\n",
    "sc.pl.dotplot(pdata, level_2_gene_dict, groupby=f'level_2', dendrogram=False, use_raw=True, cmap='Reds', swap_axes=False, standard_scale='var', save='level_2_var_h')\n",
    "sc.pl.dotplot(pdata, level_2_gene_dict, groupby=f'level_2', dendrogram=False, use_raw=True, cmap='Reds', swap_axes=False, standard_scale='group', save='level_2_group_h')"
   ]
  },
  {
   "cell_type": "markdown",
   "id": "64c8fcd2-9bab-4016-b0d2-37a1a3f1b084",
   "metadata": {},
   "source": [
    "### level 3 T cells"
   ]
  },
  {
   "cell_type": "code",
   "execution_count": null,
   "id": "b4b9e68e-90cf-4667-aecb-de42e5190002",
   "metadata": {},
   "outputs": [],
   "source": [
    "# create subset\n",
    "pdata = rdata[rdata.obs['level_2'].isin(['CD4+ T cells', 'CD8+ T cells']), ]\n",
    "current_order = ['CD4+ T cells', 'CD8+ T cells', 'Treg', 'Th1', 'Th2', 'Th17', 'Naive CD4+ T cells', 'Naive CD8+ T cells', 'PD-1+ T cells']\n",
    "pdata.obs['level_3'] = pdata.obs['level_3'].astype('category')\n",
    "pdata.obs['level_3'] = pdata.obs['level_3'].cat.reorder_categories(current_order)"
   ]
  },
  {
   "cell_type": "code",
   "execution_count": null,
   "id": "273c90cb-501e-4242-8615-9cbbc67c646e",
   "metadata": {},
   "outputs": [],
   "source": [
    "# create gene dict for visualization\n",
    "level_3_t_gene_dict = {\n",
    " 'T cells': ['Cd3d', 'Cd3e', 'Cd3g'],\n",
    " 'CD4 T cells': ['Cd4'],\n",
    " 'CD8 T cells': ['Cd8a'],\n",
    " 'Treg': ['Foxp3', 'Il2ra'],\n",
    " 'Th1': ['Ifng', 'Tbx21'],\n",
    " 'Th2': ['Il4'],\n",
    " 'Th17': ['Il17a'],\n",
    " 'Naïve T cells': ['Ccr7', 'Lef1', 'Sell'],\n",
    " 'PD-1+ T cells': ['Pdcd1']}"
   ]
  },
  {
   "cell_type": "code",
   "execution_count": null,
   "id": "6731fec3-a246-4da9-90da-3adae2e8f144",
   "metadata": {},
   "outputs": [],
   "source": [
    "# plot dot plots\n",
    "sc.pl.dotplot(pdata, level_3_t_gene_dict, groupby=f'level_3', dendrogram=False, use_raw=True, cmap='Reds', swap_axes=False, save='level_3_t_cells_h')\n",
    "sc.pl.dotplot(pdata, level_3_t_gene_dict, groupby=f'level_3', dendrogram=False, use_raw=True, cmap='Reds', swap_axes=False, standard_scale='var', save='level_3_t_cells_var_h')\n",
    "sc.pl.dotplot(pdata, level_3_t_gene_dict, groupby=f'level_3', dendrogram=False, use_raw=True, cmap='Reds', swap_axes=False, standard_scale='group', save='level_3_t_cells_group_h')"
   ]
  },
  {
   "cell_type": "markdown",
   "id": "e4b31d88-4fdc-41aa-aeaf-910920b84f8f",
   "metadata": {},
   "source": [
    "### DEG DC"
   ]
  },
  {
   "cell_type": "code",
   "execution_count": null,
   "id": "1191dac0-0ecd-4f5e-900b-2057f7f314e9",
   "metadata": {},
   "outputs": [],
   "source": [
    "# copy annotations to raw data\n",
    "raw_cdata.obs['level_2'] = rdata.obs['level_2']\n",
    "raw_cdata.obs['condition'] = rdata.obs['condition']"
   ]
  },
  {
   "cell_type": "code",
   "execution_count": null,
   "id": "030899a4-23c0-453c-8373-efad298e7a0c",
   "metadata": {},
   "outputs": [],
   "source": [
    "# create subset and new labels for visualization \n",
    "pdata = raw_cdata[raw_cdata.obs['level_2'].isin(level_2_dc_order), ]\n",
    "pdata.obs['type-condition'] = pdata.obs['level_2'].astype(str) + '_' + pdata.obs['condition'].astype(str)"
   ]
  },
  {
   "cell_type": "code",
   "execution_count": null,
   "id": "aced57fb-fdb6-419f-a9d6-6c27d5e2b435",
   "metadata": {},
   "outputs": [],
   "source": [
    "# reorder categories\n",
    "dc_condition_order = []\n",
    "for i in condition_order:\n",
    "    for j in level_2_dc_order:\n",
    "        dc_condition_order.append(f\"{j}_{i}\")\n",
    "pdata.obs['type-condition'] = pdata.obs['type-condition'].astype('category')\n",
    "pdata.obs['type-condition'] = pdata.obs['type-condition'].cat.reorder_categories(dc_condition_order)"
   ]
  },
  {
   "cell_type": "code",
   "execution_count": null,
   "id": "83e0273d-bf87-4bcd-beae-3b3654b99c90",
   "metadata": {},
   "outputs": [],
   "source": [
    "# Add log layer\n",
    "pdata.layers['log_raw'] = np.log1p(pdata.layers['raw'])\n",
    "sc.pp.normalize_total(pdata, layer='log_raw')\n",
    "\n",
    "# Find gene markers for each cluster\n",
    "sc.tl.rank_genes_groups(pdata, 'type-condition', method='wilcoxon', layer='log_raw', pts=False, use_raw=False, n_genes=pdata.shape[1])"
   ]
  },
  {
   "cell_type": "code",
   "execution_count": null,
   "id": "9d67e45d-bf6b-4b55-9618-3cf69d5bc174",
   "metadata": {},
   "outputs": [],
   "source": [
    "# plot dot plots\n",
    "sc.pl.rank_genes_groups_dotplot(pdata, key='rank_genes_groups', var_names=['Ccr7', 'Cd40', 'Cd83', 'Cd86', 'H2-K1'], dendrogram=False, values_to_plot='logfoldchanges', cmap='bwr', vmin=-1, vmax=1, save='level_2_dc_logfc')"
   ]
  }
 ],
 "metadata": {
  "kernelspec": {
   "display_name": "Python 3 (ipykernel)",
   "language": "python",
   "name": "python3"
  },
  "language_info": {
   "codemirror_mode": {
    "name": "ipython",
    "version": 3
   },
   "file_extension": ".py",
   "mimetype": "text/x-python",
   "name": "python",
   "nbconvert_exporter": "python",
   "pygments_lexer": "ipython3",
   "version": "3.9.18"
  }
 },
 "nbformat": 4,
 "nbformat_minor": 5
}
